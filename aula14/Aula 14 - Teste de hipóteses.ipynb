{
 "cells": [
  {
   "cell_type": "markdown",
   "metadata": {},
   "source": [
    "# Encontro 14 -  Teste de hipóteses\n",
    "\n",
    "## Detector de fumaça\n",
    "\n",
    "\n",
    "Um detector de fumaça deve disparar se o valor médio de suas leituras for maior que 1000 ppm de fumaça, com um nível de significância de $1%$.\n",
    "\n",
    "Uma série de leituras foi obtida, e os valores foram:\n",
    "\n",
    "661.398,853.322,601.841,514.618,653.852,800.012,606.484,824.979,814.493,716.158,656.424,687.763,682.812,671.699,761.680,889.668,770.222,758.271,571.737,684.502,766.853,647.913,769.733,548.353,663.868,662.031,806.049,782.222,650.924,770.167,1066.972,651.737,766.097,751.989,678.029,662.268,659.298,553.710,650.962,583.753,647.291,724.413,755.041,612.481,740.451,738.032,557.300,710.048,713.076,857.552\n",
    "\n",
    "O detector de fumaça precisa estabelecer se a média dos valores lido é superior à média de 1000 ppm além do nível de significância.\n",
    "\n",
    "\n",
    "Pede-se:\n",
    "\n",
    "Formule as hipóteses $H_0$ e $H_A$\n",
    "\n",
    "Este teste terá uma única região crítica ou mais de uma? Por quê?\n",
    "\n",
    "Você deve usar um teste z (de normal) ou um teste z? Justifique\n",
    "\n",
    "Daqui para frente você pode usar o teste teórico ou bootstrap, indique qual preferiu\n",
    "\n",
    "Quais são os limites das regiões críticas?\n",
    "\n",
    "Classifique onde $\\bar{x}$ se encontra em função das regiões críticas\n",
    "\n",
    "Calcule o $p-value$ e compare com $\\alpha$\n",
    "\n",
    "O que é um erro do Tipo 1? Qual a probabilidade de erro do Tipo 1 no exemplo citado?\n",
    "\n",
    "Em termos do detector de incêndio, qual o erro representado por um erro do Tipo 1?\n",
    "\n",
    "No exemplo estudado, o que seria um erro do Tipo 2?\n",
    "\n",
    "O que falta para podermos calcular qual a probabilidade de um erro do tipo 2?\n"
   ]
  },
  {
   "cell_type": "code",
   "execution_count": null,
   "metadata": {
    "collapsed": true
   },
   "outputs": [],
   "source": []
  },
  {
   "cell_type": "code",
   "execution_count": null,
   "metadata": {
    "collapsed": true
   },
   "outputs": [],
   "source": []
  }
 ],
 "metadata": {
  "kernelspec": {
   "display_name": "Python 3",
   "language": "python",
   "name": "python3"
  },
  "language_info": {
   "codemirror_mode": {
    "name": "ipython",
    "version": 3
   },
   "file_extension": ".py",
   "mimetype": "text/x-python",
   "name": "python",
   "nbconvert_exporter": "python",
   "pygments_lexer": "ipython3",
   "version": "3.4.3"
  }
 },
 "nbformat": 4,
 "nbformat_minor": 0
}
