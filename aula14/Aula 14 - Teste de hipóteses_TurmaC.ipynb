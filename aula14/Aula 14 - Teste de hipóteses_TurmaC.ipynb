{
 "cells": [
  {
   "cell_type": "markdown",
   "metadata": {},
   "source": [
    "# Encontro 14 -  Teste de hipóteses\n",
    "\n",
    "## Detector de fumaça\n",
    "\n",
    "\n",
    "Um detector de fumaça deve disparar se o valor médio de suas leituras for maior que 1000 ppm de fumaça, com um nível de significância de $1%$.\n",
    "\n",
    "Uma série de leituras foi obtida, e os valores foram:\n",
    "\n",
    "740.92,718.29,850.35,723.74,698.45,742.45,662.18,739.27,784.07,752.44,795.93,606.95,693.59,681.81,731.35,547.75,775.89,563.29,752.54,692.06,819.54,807.40,750.34,737.19,472.52,725.35,722.73,739.23,711.40,588.59,734.05,745.39,730.92,641.32,553.62,776.17,814.52,664.17,534.09,638.77,690.90,582.79,790.13,510.56,668.77,630.29,663.91,750.98,715.75,649.29,\n",
    "\n",
    "O detector de fumaça precisa estabelecer se a média dos valores lido é superior à média de 1000 ppm além do nível de significância.\n",
    "\n",
    "\n",
    "Pede-se:\n",
    "\n",
    "Formule as hipóteses $H_0$ e $H_A$\n",
    "\n",
    "Este teste terá uma única região crítica ou mais de uma? Por quê?\n",
    "\n",
    "Você deve usar um teste z (de normal) ou um teste z? Justifique\n",
    "\n",
    "Daqui para frente você pode usar o teste teórico ou bootstrap, indique qual preferiu\n",
    "\n",
    "Quais são os limites das regiões críticas?\n",
    "\n",
    "Classifique onde $\\bar{x}$ se encontra em função das regiões críticas\n",
    "\n",
    "Calcule o $p-value$ e compare com $\\alpha$\n",
    "\n",
    "O que é um erro do Tipo 1? Qual a probabilidade de erro do Tipo 1 no exemplo citado?\n",
    "\n",
    "Em termos do detector de incêndio, qual o erro representado por um erro do Tipo 1?\n",
    "\n",
    "No exemplo estudado, o que seria um erro do Tipo 2?\n",
    "\n",
    "O que falta para podermos calcular qual a probabilidade de um erro do tipo 2?\n"
   ]
  },
  {
   "cell_type": "code",
   "execution_count": null,
   "metadata": {
    "collapsed": true
   },
   "outputs": [],
   "source": []
  },
  {
   "cell_type": "code",
   "execution_count": null,
   "metadata": {
    "collapsed": true
   },
   "outputs": [],
   "source": []
  }
 ],
 "metadata": {
  "kernelspec": {
   "display_name": "Python 3",
   "language": "python",
   "name": "python3"
  },
  "language_info": {
   "codemirror_mode": {
    "name": "ipython",
    "version": 3
   },
   "file_extension": ".py",
   "mimetype": "text/x-python",
   "name": "python",
   "nbconvert_exporter": "python",
   "pygments_lexer": "ipython3",
   "version": "3.4.3"
  }
 },
 "nbformat": 4,
 "nbformat_minor": 0
}
