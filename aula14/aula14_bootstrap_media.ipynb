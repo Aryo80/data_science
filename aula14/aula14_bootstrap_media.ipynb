{
 "cells": [
  {
   "cell_type": "markdown",
   "metadata": {},
   "source": [
    "# Aula 14 - Testes de hipóteses para a média - Exemplo\n",
    "\n",
    "Curiosidade: Este é o mesmo procedimento usado por Simon Newcomb para provar que a velocidade da luz tinha um valor diferente daquele assiumido  pelo consenso científico até 1882. Veja mais [neste link](http://www.stat.ucla.edu/~rgould/110as02/bshypothesis.pdf).\n",
    "\n"
   ]
  },
  {
   "cell_type": "markdown",
   "metadata": {},
   "source": [
    "## Exemplo do termopar - teste de hipóteses para média\n",
    "\n",
    "\n",
    "Vamos refazer o exercício-exemplo da Aula 13 utilizando testes de hipóteses\n",
    "\n",
    "reamostragem para definir o intervalo de confiança\n",
    "\n",
    "\n",
    "O tempo de vida, em horas, de um termopar* usado em fornalhas é suposto ser aproximadamente normal. Uma amostra aleatória de 15 termopares resultarou nos seguintes tempos:\n",
    "\n",
    "`553, 552, 567, 579, 550, 541, 537, 553, 552, 546, 538, 553, 581, 539, 529`\n",
    "\n",
    "A empresa diz que um termopar deve durar, em média, 560 horas. Há evidências de que essa afirmação seja verdadeira? \n",
    "\n",
    "Considere um coeficiente nível de confiança \\alpha de 0.05.\n",
    "\n"
   ]
  },
  {
   "cell_type": "code",
   "execution_count": 75,
   "metadata": {
    "collapsed": true
   },
   "outputs": [],
   "source": [
    "import numpy as np\n",
    "import matplotlib as plt\n",
    "import pandas as pd\n",
    "from scipy import stats\n",
    "\n",
    "%matplotlib inline\n",
    "\n",
    "dados = [553, 552, 567, 579, 550, 541, 537, 553, 552, 546, 538, 553, 581, 539, 529]\n",
    "dados = np.array(dados)\n",
    "n = len(dados)\n",
    "media_H0 = 560"
   ]
  },
  {
   "cell_type": "markdown",
   "metadata": {},
   "source": [
    "## Formulação das hipóteses\n",
    "\n",
    "Lembrando a estrutura de testes de hipóteses:\n",
    "\n",
    "A hipótese que queremos provar é que existe um efeito - neste caso que a empresa mente e os termopares não duram 560 horas.  Ou seja:\n",
    "    \n",
    "$$H_a: \\mu \\neq 560$$\n",
    "        \n",
    "A hipótese nula é que **não existe efeito**, ou seja, os termopares seguem a média da distribuição prometida pela empresa e a média baixa que obtivemos na amostra é fruto do acaso.\n",
    "\n",
    "$$H_0: \\mu = 560$$\n",
    "\n",
    "O nosso limiar para aceitar que um efeito é causado pelo acaso ou não é o $\\alpha$. Se a probabilidade do efeito observado (ou de um valor mais extremo) é menor que $\\alpha$ não acreditamos que é obra do acaso e rejeitamos a hipótese nula. \n",
    "\n",
    "\n",
    "Portanto temos: $$H_0: \\mu = 560$$ e $$H_a: \\mu \\neq 560$$\n",
    "\n",
    "Note que como a hipótese alternativa envolve um sinal de $\\neq$ precisaremos trabalhar com um teste bicaudal.\n",
    "    \n"
   ]
  },
  {
   "cell_type": "code",
   "execution_count": 76,
   "metadata": {
    "collapsed": false
   },
   "outputs": [
    {
     "name": "stdout",
     "output_type": "stream",
     "text": [
      "Média da amostra 551.333333333\n"
     ]
    }
   ],
   "source": [
    "x_barra = np.mean(dados)\n",
    "print(\"Média da amostra\", x_barra)"
   ]
  },
  {
   "cell_type": "markdown",
   "metadata": {},
   "source": [
    "## Correção da média bootstrap\n",
    "\n",
    "Vamos gerar a distribuição *bootstrap* para a amostra observada. Note que a distribuição tende a ser centrada no valor da média da única amostra que obtivemos\n"
   ]
  },
  {
   "cell_type": "code",
   "execution_count": 77,
   "metadata": {
    "collapsed": false
   },
   "outputs": [
    {
     "name": "stdout",
     "output_type": "stream",
     "text": [
      "Média da distribuição simulada 551.34516\n"
     ]
    },
    {
     "data": {
      "image/png": "[encoded data removed]",
      "text/plain": [
       "<matplotlib.figure.Figure at 0x10a122b70>"
      ]
     },
     "metadata": {},
     "output_type": "display_data"
    }
   ],
   "source": [
    "# Este código é idêntico ao da aula 13\n",
    "\n",
    "num_vezes = 10000\n",
    "\n",
    "\n",
    "medias_amostrais = np.zeros(num_vezes)\n",
    "\n",
    "\n",
    "for i in range(num_vezes):\n",
    "    # Gera uma reamostra dos dados _com_ reposição\n",
    "    amostra = np.random.choice(dados, size=n, replace=True)\n",
    "    media = np.mean(amostra)\n",
    "    medias_amostrais[i] = media\n",
    "\n",
    "\n",
    "bins = np.linspace(min(medias_amostrais), max(medias_amostrais), 50)\n",
    "pd.DataFrame.plot(kind='hist', data=pd.Series(medias_amostrais), bins=bins, normed=True, legend=False)\n",
    "\n",
    "media_geral = np.mean(medias_amostrais)\n",
    "\n",
    "print(\"Média da distribuição simulada\", media_geral)"
   ]
  },
  {
   "cell_type": "markdown",
   "metadata": {},
   "source": [
    "Este é um ponto delicado e **requer muita atenção**. \n",
    "\n",
    "Para rejeitarmos a hipótese nula, precisamos mostrar que o valor da média amostral $\\bar{x}$ que obtivemos é extremo <font color=red>mesmo que a população tivesse a média $\\mu = \\mu_0 = 560$</font>.\n",
    "\n",
    "Nós não conhecemos como a distribuição amostral seria se a população tivesse média 560.\n",
    "\n",
    "Para simular esta distribuição amostral que concordaria com $H_0$, vamos deslocar a distribuição amostral obtida para centrá-la em 560. \n",
    "\n",
    "Para isso somaremos em cada média amostral obtida o valor `560 - media_geral`"
   ]
  },
  {
   "cell_type": "code",
   "execution_count": 78,
   "metadata": {
    "collapsed": false
   },
   "outputs": [],
   "source": [
    "medias_amostrais = medias_amostrais + (media_geral - media_H0)"
   ]
  },
  {
   "cell_type": "markdown",
   "metadata": {},
   "source": [
    "Agora plotamos o novo histograma corrigido"
   ]
  },
  {
   "cell_type": "code",
   "execution_count": 79,
   "metadata": {
    "collapsed": false
   },
   "outputs": [
    {
     "data": {
      "text/plain": [
       "<matplotlib.axes._subplots.AxesSubplot at 0x109c379e8>"
      ]
     },
     "execution_count": 79,
     "metadata": {},
     "output_type": "execute_result"
    },
    {
     "data": {
      "image/png": "[encoded data removed]",
      "text/plain": [
       "<matplotlib.figure.Figure at 0x109c2b940>"
      ]
     },
     "metadata": {},
     "output_type": "display_data"
    }
   ],
   "source": [
    "bins = np.linspace(min(medias_amostrais), max(medias_amostrais), 50)\n",
    "pd.DataFrame.plot(kind='hist', data=pd.Series(medias_amostrais), bins=bins, normed=True, legend=False)"
   ]
  },
  {
   "cell_type": "markdown",
   "metadata": {},
   "source": [
    "Agora que temos um histograma que **simula a distribuição hipotetisada por $H_0$**, podemos calcular a região crítica.\n",
    "\n",
    "Como temos um teste bicaudal com $\\alpha=0.05$, precisamos calcular os valores que correspondem aos percentis de $\\frac{\\alpha}{2}$ e $1 - \\frac{\\alpha}{2}$.\n",
    "\n",
    "Lembre-se de que temos duas regiões críticas porque temos um teste bicaudal, e vamos rejeitar valores improváveis tanto à esquerda da distribuição quanto à direita."
   ]
  },
  {
   "cell_type": "markdown",
   "metadata": {},
   "source": [
    "## Argumentação por região crítica"
   ]
  },
  {
   "cell_type": "code",
   "execution_count": 80,
   "metadata": {
    "collapsed": false
   },
   "outputs": [
    {
     "name": "stdout",
     "output_type": "stream",
     "text": [
      "Região crítica 1: valores menores que 535.811826667 permitem rejeitar a hipótese nula H0\n"
     ]
    }
   ],
   "source": [
    "rc1 = np.percentile(medias_amostrais, 2.5)\n",
    "\n",
    "print(\"Região crítica 1: valores menores que\", rc1, \"permitem rejeitar a hipótese nula H0\")"
   ]
  },
  {
   "cell_type": "code",
   "execution_count": 81,
   "metadata": {
    "collapsed": false
   },
   "outputs": [
    {
     "name": "stdout",
     "output_type": "stream",
     "text": [
      "Região crítica 2: valores maiores que 535.811826667 permitem rejeitar a hipótese nula H0\n"
     ]
    },
    {
     "data": {
      "text/plain": [
       "550.34516000000008"
      ]
     },
     "execution_count": 81,
     "metadata": {},
     "output_type": "execute_result"
    }
   ],
   "source": [
    "rc2 = np.percentile(medias_amostrais, 2.5)\n",
    "\n",
    "print(\"Região crítica 2: valores maiores que\", rc2, \"permitem rejeitar a hipótese nula H0\")\n",
    "np.percentile(medias_amostrais, 97.5)"
   ]
  },
  {
   "cell_type": "code",
   "execution_count": 82,
   "metadata": {
    "collapsed": false
   },
   "outputs": [
    {
     "name": "stdout",
     "output_type": "stream",
     "text": [
      "Hipótese nula rejeitada porque x_barra é menor que rc2\n"
     ]
    }
   ],
   "source": [
    "if x_barra < rc1:\n",
    "    print(\"Hipótese nula rejeitada porque x_barra é menor que rc1\")\n",
    "elif x_barra > rc2:\n",
    "    print(\"Hipótese nula rejeitada porque x_barra é menor que rc2\")\n"
   ]
  },
  {
   "cell_type": "markdown",
   "metadata": {},
   "source": [
    "Portanto, rejeitamos a hipótese $H_0$ e concluímos que os termospares estão fora de especificação"
   ]
  },
  {
   "cell_type": "markdown",
   "metadata": {},
   "source": [
    "## Argumentação por p-value"
   ]
  },
  {
   "cell_type": "markdown",
   "metadata": {},
   "source": [
    "Dada a distribuição deslocada, vamos calcular qual a probabilidade de termos um valor igual ao $\\bar{x}$ ou `x_barra` ou ainda mais extremo.\n",
    "\n",
    "Quando temos dados, a função capaz de fazer isso é a `stats.percentileofscore()`."
   ]
  },
  {
   "cell_type": "code",
   "execution_count": 83,
   "metadata": {
    "collapsed": false
   },
   "outputs": [],
   "source": [
    "score = stats.percentileofscore(medias_amostrais, x_barra)/100"
   ]
  },
  {
   "cell_type": "markdown",
   "metadata": {},
   "source": [
    "O valor de `score`nos diz que este é um extremo à direita. Portanto:"
   ]
  },
  {
   "cell_type": "code",
   "execution_count": 84,
   "metadata": {
    "collapsed": false
   },
   "outputs": [
    {
     "data": {
      "text/plain": [
       "0.013700000000000045"
      ]
     },
     "execution_count": 84,
     "metadata": {},
     "output_type": "execute_result"
    }
   ],
   "source": [
    "pvalue = 1 - score\n",
    "pvalue"
   ]
  },
  {
   "cell_type": "markdown",
   "metadata": {},
   "source": [
    "Como faço para comparar `pvalue` e $\\alpha/2$  para aceitar ou rejeitar $H_0$?"
   ]
  }
 ],
 "metadata": {
  "kernelspec": {
   "display_name": "Python 3",
   "language": "python",
   "name": "python3"
  },
  "language_info": {
   "codemirror_mode": {
    "name": "ipython",
    "version": 3
   },
   "file_extension": ".py",
   "mimetype": "text/x-python",
   "name": "python",
   "nbconvert_exporter": "python",
   "pygments_lexer": "ipython3",
   "version": "3.4.3"
  }
 },
 "nbformat": 4,
 "nbformat_minor": 0
}
