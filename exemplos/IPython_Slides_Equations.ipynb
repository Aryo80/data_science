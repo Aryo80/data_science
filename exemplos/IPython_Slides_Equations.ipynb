{
 "cells": [
  {
   "cell_type": "markdown",
   "metadata": {},
   "source": [
    "# Using Sympy equations inside an IPython Notebook"
   ]
  },
  {
   "cell_type": "markdown",
   "metadata": {},
   "source": [
    "Setup:"
   ]
  },
  {
   "cell_type": "code",
   "execution_count": 2,
   "metadata": {
    "collapsed": false
   },
   "outputs": [],
   "source": [
    "from sympy.interactive import printing\n",
    "#printing.init_printing(use_latex=False) # Use this option if you don't have Latex Installed\n",
    "printing.init_printing(use_latex=True)\n",
    "#printing.init_printing(use_latex=mathjax)\n",
    "\n",
    "from sympy import *"
   ]
  },
  {
   "cell_type": "markdown",
   "metadata": {},
   "source": [
    "It´s necessary to declare the variables used in the equation as mathematical symbols. If you don't Python will consider them regular variables and try to compute the value of the expression *t* below immediately."
   ]
  },
  {
   "cell_type": "code",
   "execution_count": 3,
   "metadata": {
    "collapsed": false
   },
   "outputs": [],
   "source": [
    "#x = Symbol(\"x\")\n",
    "#k = Symbol(\"k\")\n",
    "#y = Symbol(\"y\")\n",
    "#b = Symbol(\"b\")\n",
    "x,y,k,b = symbols(\"x y k b\")\n",
    "\n",
    "t = sin(2*pi*x*(k**2))/ (4*(pi**2)*(k**5)) + (x**2) / (2*k)"
   ]
  },
  {
   "cell_type": "code",
   "execution_count": 4,
   "metadata": {
    "collapsed": false,
    "scrolled": false
   },
   "outputs": [
    {
     "data": {
      "image/png": "[encoded data removed]",
      "text/latex": [
       "$$\\frac{x^{2}}{2 k} + \\frac{1}{4 \\pi^{2} k^{5}} \\sin{\\left (2 \\pi k^{2} x \\right )}$$"
      ],
      "text/plain": [
       "  2      ⎛     2  ⎞\n",
       " x    sin⎝2⋅π⋅k ⋅x⎠\n",
       "─── + ─────────────\n",
       "2⋅k         2  5   \n",
       "         4⋅π ⋅k    "
      ]
     },
     "execution_count": 4,
     "metadata": {},
     "output_type": "execute_result"
    }
   ],
   "source": [
    "t"
   ]
  },
  {
   "cell_type": "markdown",
   "metadata": {},
   "source": [
    "Notice that this is different from simply using LaTeX-formatted expressions inside an IPython notebook, for instance:\n",
    "\n",
    "$$\\frac{x^2}{2k} + \\frac{1}{4\\pi^2k^5}sin(2\\pi k^2x)$$\n",
    "\n",
    "The appearance is the same, but the Sympy expression is \"live\" and can be used in computations\n"
   ]
  },
  {
   "cell_type": "markdown",
   "metadata": {},
   "source": [
    "One of the advantages of using Sympy is that we can manipulate expressions symbolically. For instance, let's differentiate t in relation to the symbolic variable x"
   ]
  },
  {
   "cell_type": "code",
   "execution_count": 5,
   "metadata": {
    "collapsed": false
   },
   "outputs": [],
   "source": [
    "t1 = diff(t,x)"
   ]
  },
  {
   "cell_type": "code",
   "execution_count": 6,
   "metadata": {
    "collapsed": false
   },
   "outputs": [
    {
     "data": {
      "image/png": "[encoded data removed]",
      "text/latex": [
       "$$\\frac{x}{k} + \\frac{1}{2 \\pi k^{3}} \\cos{\\left (2 \\pi k^{2} x \\right )}$$"
      ],
      "text/plain": [
       "       ⎛     2  ⎞\n",
       "x   cos⎝2⋅π⋅k ⋅x⎠\n",
       "─ + ─────────────\n",
       "k            3   \n",
       "        2⋅π⋅k    "
      ]
     },
     "execution_count": 6,
     "metadata": {},
     "output_type": "execute_result"
    }
   ],
   "source": [
    "t1"
   ]
  },
  {
   "cell_type": "code",
   "execution_count": 7,
   "metadata": {
    "collapsed": false
   },
   "outputs": [],
   "source": [
    "t0 = integrate(t,x)"
   ]
  },
  {
   "cell_type": "code",
   "execution_count": 8,
   "metadata": {
    "collapsed": false
   },
   "outputs": [
    {
     "data": {
      "image/png": "[encoded data removed]",
      "text/latex": [
       "$$\\frac{x^{3}}{6 k} + \\frac{1}{4 \\pi^{2} k^{5}} \\begin{cases} 0 & \\text{for}\\: 2 \\pi k^{2} = 0 \\\\- \\frac{1}{2 \\pi k^{2}} \\cos{\\left (2 \\pi k^{2} x \\right )} & \\text{otherwise} \\end{cases}$$"
      ],
      "text/plain": [
       "      ⎧                          2    \n",
       "      ⎪       0         for 2⋅π⋅k  = 0\n",
       "      ⎪                               \n",
       "      ⎪    ⎛     2  ⎞                 \n",
       "      ⎨-cos⎝2⋅π⋅k ⋅x⎠                 \n",
       "      ⎪───────────────    otherwise   \n",
       "      ⎪          2                    \n",
       "  3   ⎪     2⋅π⋅k                     \n",
       " x    ⎩                               \n",
       "─── + ────────────────────────────────\n",
       "6⋅k                  2  5             \n",
       "                  4⋅π ⋅k              "
      ]
     },
     "execution_count": 8,
     "metadata": {},
     "output_type": "execute_result"
    }
   ],
   "source": [
    "t0"
   ]
  },
  {
   "cell_type": "code",
   "execution_count": 9,
   "metadata": {
    "collapsed": true,
    "slideshow": {
     "slide_type": "slide"
    }
   },
   "outputs": [],
   "source": [
    "# Factor"
   ]
  },
  {
   "cell_type": "code",
   "execution_count": 10,
   "metadata": {
    "collapsed": false
   },
   "outputs": [],
   "source": [
    "eq = x**2 + 2*x + 1\n"
   ]
  },
  {
   "cell_type": "code",
   "execution_count": 11,
   "metadata": {
    "collapsed": false
   },
   "outputs": [
    {
     "data": {
      "image/png": "[encoded data removed]",
      "text/latex": [
       "$$x^{2} + 2 x + 1$$"
      ],
      "text/plain": [
       " 2          \n",
       "x  + 2⋅x + 1"
      ]
     },
     "execution_count": 11,
     "metadata": {},
     "output_type": "execute_result"
    }
   ],
   "source": [
    "eq"
   ]
  },
  {
   "cell_type": "code",
   "execution_count": 12,
   "metadata": {
    "collapsed": false
   },
   "outputs": [
    {
     "data": {
      "image/png": "[encoded data removed]",
      "text/latex": [
       "$$\\left(x + 1\\right)^{2}$$"
      ],
      "text/plain": [
       "       2\n",
       "(x + 1) "
      ]
     },
     "execution_count": 12,
     "metadata": {},
     "output_type": "execute_result"
    }
   ],
   "source": [
    "factor(eq)"
   ]
  },
  {
   "cell_type": "code",
   "execution_count": 13,
   "metadata": {
    "collapsed": false
   },
   "outputs": [
    {
     "data": {
      "image/png": "[encoded data removed]",
      "text/latex": [
       "$$\\left(x + 1\\right)^{2}$$"
      ],
      "text/plain": [
       "       2\n",
       "(x + 1) "
      ]
     },
     "execution_count": 13,
     "metadata": {},
     "output_type": "execute_result"
    }
   ],
   "source": [
    "(x+1)**2"
   ]
  },
  {
   "cell_type": "code",
   "execution_count": 14,
   "metadata": {
    "collapsed": false
   },
   "outputs": [
    {
     "data": {
      "image/png": "[encoded data removed]",
      "text/latex": [
       "$$x^{2} + 2 x + 1$$"
      ],
      "text/plain": [
       " 2          \n",
       "x  + 2⋅x + 1"
      ]
     },
     "execution_count": 14,
     "metadata": {},
     "output_type": "execute_result"
    }
   ],
   "source": [
    "expand((x+1)**2)"
   ]
  },
  {
   "cell_type": "code",
   "execution_count": 15,
   "metadata": {
    "collapsed": false
   },
   "outputs": [
    {
     "data": {
      "image/png": "[encoded data removed]",
      "text/latex": [
       "$$e^{x}$$"
      ],
      "text/plain": [
       " x\n",
       "ℯ "
      ]
     },
     "execution_count": 15,
     "metadata": {},
     "output_type": "execute_result"
    }
   ],
   "source": [
    "exp(x)"
   ]
  },
  {
   "cell_type": "code",
   "execution_count": 16,
   "metadata": {
    "collapsed": false
   },
   "outputs": [],
   "source": [
    "alpha = Symbol(\"\\\\alpha\")\n",
    "modelo_exponencial = alpha*E**(-alpha*x)"
   ]
  },
  {
   "cell_type": "code",
   "execution_count": 19,
   "metadata": {
    "collapsed": false
   },
   "outputs": [
    {
     "data": {
      "image/png": "[encoded data removed]",
      "text/latex": [
       "$$\\alpha e^{- \\alpha x}$$"
      ],
      "text/plain": [
       "        -\\alpha⋅x\n",
       "\\alpha⋅ℯ         "
      ]
     },
     "execution_count": 19,
     "metadata": {},
     "output_type": "execute_result"
    }
   ],
   "source": [
    "modelo_exponencial"
   ]
  },
  {
   "cell_type": "code",
   "execution_count": 20,
   "metadata": {
    "collapsed": false
   },
   "outputs": [
    {
     "data": {
      "image/png": "[encoded data removed]",
      "text/latex": [
       "$$- e^{- \\alpha x}$$"
      ],
      "text/plain": [
       "  -\\alpha⋅x\n",
       "-ℯ         "
      ]
     },
     "execution_count": 20,
     "metadata": {},
     "output_type": "execute_result"
    }
   ],
   "source": [
    "integrate(modelo_exponencial, x)"
   ]
  },
  {
   "cell_type": "code",
   "execution_count": 22,
   "metadata": {
    "collapsed": true
   },
   "outputs": [],
   "source": [
    "expected_value = x*alpha*E**(-alpha*x)"
   ]
  },
  {
   "cell_type": "code",
   "execution_count": 23,
   "metadata": {
    "collapsed": false
   },
   "outputs": [
    {
     "data": {
      "image/png": "[encoded data removed]",
      "text/latex": [
       "$$\\begin{cases} \\frac{\\alpha x^{2}}{2} & \\text{for}\\: \\alpha = 0 \\\\\\frac{1}{\\alpha} \\left(- \\alpha x - 1\\right) e^{- \\alpha x} & \\text{otherwise} \\end{cases}$$"
      ],
      "text/plain": [
       "⎧                2                         \n",
       "⎪        \\alpha⋅x                          \n",
       "⎪        ─────────           for \\alpha = 0\n",
       "⎪            2                             \n",
       "⎨                                          \n",
       "⎪                 -\\alpha⋅x                \n",
       "⎪(-\\alpha⋅x - 1)⋅ℯ                         \n",
       "⎪──────────────────────────    otherwise   \n",
       "⎩          \\alpha                          "
      ]
     },
     "execution_count": 23,
     "metadata": {},
     "output_type": "execute_result"
    }
   ],
   "source": [
    "integrate(expected_value , x)"
   ]
  },
  {
   "cell_type": "code",
   "execution_count": 24,
   "metadata": {
    "collapsed": true
   },
   "outputs": [],
   "source": [
    "variance = (x**2)*modelo_exponencial"
   ]
  },
  {
   "cell_type": "code",
   "execution_count": 25,
   "metadata": {
    "collapsed": false
   },
   "outputs": [
    {
     "data": {
      "image/png": "[encoded data removed]",
      "text/latex": [
       "$$\\alpha x^{2} e^{- \\alpha x}$$"
      ],
      "text/plain": [
       "        2  -\\alpha⋅x\n",
       "\\alpha⋅x ⋅ℯ         "
      ]
     },
     "execution_count": 25,
     "metadata": {},
     "output_type": "execute_result"
    }
   ],
   "source": [
    "variance"
   ]
  },
  {
   "cell_type": "code",
   "execution_count": 26,
   "metadata": {
    "collapsed": false
   },
   "outputs": [
    {
     "data": {
      "image/png": "[encoded data removed]",
      "text/latex": [
       "$$\\begin{cases} \\frac{\\alpha x^{3}}{3} & \\text{for}\\: \\alpha^{3} = 0 \\\\\\frac{1}{\\alpha^{3}} \\left(- \\alpha^{3} x^{2} - 2 \\alpha^{2} x - 2 \\alpha\\right) e^{- \\alpha x} & \\text{otherwise} \\end{cases}$$"
      ],
      "text/plain": [
       "⎧                            3                                      \n",
       "⎪                    \\alpha⋅x                                  3    \n",
       "⎪                    ─────────                       for \\alpha  = 0\n",
       "⎪                        3                                          \n",
       "⎪                                                                   \n",
       "⎨⎛        3  2           2             ⎞  -\\alpha⋅x                 \n",
       "⎪⎝- \\alpha ⋅x  - 2⋅\\alpha ⋅x - 2⋅\\alpha⎠⋅ℯ                          \n",
       "⎪──────────────────────────────────────────────────     otherwise   \n",
       "⎪                           3                                       \n",
       "⎪                     \\alpha                                        \n",
       "⎩                                                                   "
      ]
     },
     "execution_count": 26,
     "metadata": {},
     "output_type": "execute_result"
    }
   ],
   "source": [
    "integrate(variance, x)"
   ]
  },
  {
   "cell_type": "code",
   "execution_count": null,
   "metadata": {
    "collapsed": true
   },
   "outputs": [],
   "source": []
  }
 ],
 "metadata": {
  "celltoolbar": "Slideshow",
  "kernelspec": {
   "display_name": "Python 3",
   "language": "python",
   "name": "python3"
  },
  "language_info": {
   "codemirror_mode": {
    "name": "ipython",
    "version": 3
   },
   "file_extension": ".py",
   "mimetype": "text/x-python",
   "name": "python",
   "nbconvert_exporter": "python",
   "pygments_lexer": "ipython3",
   "version": "3.4.3"
  }
 },
 "nbformat": 4,
 "nbformat_minor": 0
}
