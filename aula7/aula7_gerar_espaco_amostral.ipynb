{
 "cells": [
  {
   "cell_type": "markdown",
   "metadata": {
    "collapsed": false
   },
   "source": [
    "# Exploração de espaço amostral em Python"
   ]
  },
  {
   "cell_type": "markdown",
   "metadata": {},
   "source": [
    "Definamos as possibilidades de resultado de um único evento como  $A$ e $A^c$ (A complementar)"
   ]
  },
  {
   "cell_type": "code",
   "execution_count": 129,
   "metadata": {
    "collapsed": true
   },
   "outputs": [],
   "source": [
    "possibilidades = [\"A\", \"Ac\"]"
   ]
  },
  {
   "cell_type": "markdown",
   "metadata": {},
   "source": [
    "Vamos atribuir a cada *outcome* possível sua probabilidade usando um dicionário:"
   ]
  },
  {
   "cell_type": "code",
   "execution_count": 130,
   "metadata": {
    "collapsed": true
   },
   "outputs": [],
   "source": [
    "prob = {\"A\": 0.1, \"Ac\":0.9}"
   ]
  },
  {
   "cell_type": "markdown",
   "metadata": {},
   "source": [
    "<font color=red>Importante!</font> A soma das probabilidades para um único evento deve ser 1.0."
   ]
  },
  {
   "cell_type": "markdown",
   "metadata": {},
   "source": [
    "Vamos gerar todos os arranjos possíveis de 3 eventos"
   ]
  },
  {
   "cell_type": "code",
   "execution_count": 131,
   "metadata": {
    "collapsed": false
   },
   "outputs": [],
   "source": [
    "import itertools\n",
    "\n",
    "arranjos = itertools.product(*([possibilidades]*3 ))"
   ]
  },
  {
   "cell_type": "code",
   "execution_count": 132,
   "metadata": {
    "collapsed": false
   },
   "outputs": [
    {
     "data": {
      "text/plain": [
       "<itertools.product at 0x107461900>"
      ]
     },
     "execution_count": 132,
     "metadata": {},
     "output_type": "execute_result"
    }
   ],
   "source": [
    "arranjos"
   ]
  },
  {
   "cell_type": "code",
   "execution_count": 133,
   "metadata": {
    "collapsed": false
   },
   "outputs": [
    {
     "data": {
      "text/plain": [
       "[('A', 'A', 'A'),\n",
       " ('A', 'A', 'Ac'),\n",
       " ('A', 'Ac', 'A'),\n",
       " ('A', 'Ac', 'Ac'),\n",
       " ('Ac', 'A', 'A'),\n",
       " ('Ac', 'A', 'Ac'),\n",
       " ('Ac', 'Ac', 'A'),\n",
       " ('Ac', 'Ac', 'Ac')]"
      ]
     },
     "execution_count": 133,
     "metadata": {},
     "output_type": "execute_result"
    }
   ],
   "source": [
    "espaco_amostral = list(arranjos)\n",
    "espaco_amostral"
   ]
  },
  {
   "cell_type": "markdown",
   "metadata": {},
   "source": [
    "Vamos calcular a probabilidade de cada uma das linhas:"
   ]
  },
  {
   "cell_type": "code",
   "execution_count": 134,
   "metadata": {
    "collapsed": false
   },
   "outputs": [
    {
     "data": {
      "text/plain": [
       "[0.0010000000000000002,\n",
       " 0.009000000000000003,\n",
       " 0.009000000000000001,\n",
       " 0.08100000000000002,\n",
       " 0.009000000000000001,\n",
       " 0.08100000000000002,\n",
       " 0.08100000000000002,\n",
       " 0.7290000000000001]"
      ]
     },
     "execution_count": 134,
     "metadata": {},
     "output_type": "execute_result"
    }
   ],
   "source": [
    "prob_linhas = []\n",
    "\n",
    "for evento in espaco_amostral:\n",
    "    p = 1.0\n",
    "    for e in evento:\n",
    "        p*=prob[e]\n",
    "    prob_linhas.append(p)\n",
    "\n",
    "prob_linhas"
   ]
  },
  {
   "cell_type": "markdown",
   "metadata": {},
   "source": [
    "Vamos verificar que a soma das probabilidades de todos os eventos do espaço amostral é 1"
   ]
  },
  {
   "cell_type": "code",
   "execution_count": 135,
   "metadata": {
    "collapsed": false
   },
   "outputs": [
    {
     "data": {
      "text/plain": [
       "1.0"
      ]
     },
     "execution_count": 135,
     "metadata": {},
     "output_type": "execute_result"
    }
   ],
   "source": [
    "sum(prob_linhas)"
   ]
  },
  {
   "cell_type": "markdown",
   "metadata": {
    "collapsed": true
   },
   "source": [
    "**Mapeando à variável aleatória $C$ - custo da obra\n",
    "\n",
    "Seguindo o exemplo 3.2 do Magalhães e Lima:\n",
    "> Na construção de um certo prédio, as fundações devem atingir 15 metros de profundidade e, para cada 5 metros de estacas colocadas, o operador anota se houve alteração no ritmo de perfuração previamente estabelecido.\n",
    "\n",
    "> Essa alteração é resultado de mudanças para mais ou para menos, na resistência do subsolo. Nos dois casos, medidas corretivas serão necessárias, encarecendo o custo da obra. Com base em avaliações geológicas, admite-se que a probabilidade de ocorrência de alterações é de 0,1 para cada 5 metros. O custo básico inicial é de 100 UPCs (unidade padrão de construção) e será acrescido de $50k$, com $k$ representando o número de alterações observadas. Como se comporta a variável custo das obras de fundação?\n",
    "\n",
    "\n",
    "> Assumimos que as alterações ocorrem indepentendemente entre cada um dos três intervalos de 5 metros e representamos por A a *ocorrência de alteração em cada intervalo*, sendo $A^c$ seu complementar. A Figura 3.1 (no livro) apresenta as três etapas com os possíveis resultados da perfuração. Cada etapa tem duas possibilidades que, quando combinadas com as outras duas etapas, originam 8 possíveis eventos. Por exemplo, o evento $AA^cA$ representa que, na primeira e na terceira etapas, aconteceram alterações, enquanto na segunda nada se alterou. Como tempos 3 etapas, com 2 possibilidades em cada uma, temos no total $2^3 = 8$ eventos.\n",
    "\n",
    "\n",
    "A obra, portanto, custa  $100 + 50n_{A}$. Neste caso $n_{A}$ representa o número de alterações.\n",
    "\n",
    "\n",
    "\n",
    "Note que várias linhas diferentes do espaço amostral contribuem para a probabilidade de um mesmo valor da variável aleatória.\n",
    "\n",
    "Por este motivo, é conveniente usar a variável aleatória como chave de um dicionário, e as probabilidades como valor armazenado."
   ]
  },
  {
   "cell_type": "code",
   "execution_count": 136,
   "metadata": {
    "collapsed": true
   },
   "outputs": [],
   "source": [
    "# Dicionário para acumular a variável aleatória. \n",
    "valores_C = {}"
   ]
  },
  {
   "cell_type": "code",
   "execution_count": 137,
   "metadata": {
    "collapsed": false
   },
   "outputs": [],
   "source": [
    "for i in range(len(espaco_amostral)):\n",
    "    custo = espaco_amostral[i].count(\"A\")*50 + 100\n",
    "    # Checar antes se a chave está no dicionário\n",
    "    if custo in valores_C:\n",
    "        valores_C[custo] += prob_linhas[i]\n",
    "    else:\n",
    "        valores_C[custo] = prob_linhas[i]\n",
    "    \n",
    "    "
   ]
  },
  {
   "cell_type": "markdown",
   "metadata": {},
   "source": [
    "Resumo:"
   ]
  },
  {
   "cell_type": "code",
   "execution_count": 138,
   "metadata": {
    "collapsed": false
   },
   "outputs": [
    {
     "name": "stdout",
     "output_type": "stream",
     "text": [
      "Valor:  200  Probabilidade 0.0270 \n",
      "Valor:  250  Probabilidade 0.0010 \n",
      "Valor:  100  Probabilidade 0.7290 \n",
      "Valor:  150  Probabilidade 0.2430 \n"
     ]
    }
   ],
   "source": [
    "for k in valores_C:\n",
    "    print(\"Valor: \", k, \" Probabilidade\", \"%5.4f \"%valores_C[k])"
   ]
  },
  {
   "cell_type": "code",
   "execution_count": null,
   "metadata": {
    "collapsed": true
   },
   "outputs": [],
   "source": []
  },
  {
   "cell_type": "code",
   "execution_count": null,
   "metadata": {
    "collapsed": true
   },
   "outputs": [],
   "source": []
  }
 ],
 "metadata": {
  "kernelspec": {
   "display_name": "Python 3",
   "language": "python",
   "name": "python3"
  },
  "language_info": {
   "codemirror_mode": {
    "name": "ipython",
    "version": 3
   },
   "file_extension": ".py",
   "mimetype": "text/x-python",
   "name": "python",
   "nbconvert_exporter": "python",
   "pygments_lexer": "ipython3",
   "version": "3.4.3"
  }
 },
 "nbformat": 4,
 "nbformat_minor": 0
}
