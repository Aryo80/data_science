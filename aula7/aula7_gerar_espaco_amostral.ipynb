{
 "cells": [
  {
   "cell_type": "markdown",
   "metadata": {
    "collapsed": false
   },
   "source": [
    "# Exploração de espaço amostral em Python"
   ]
  },
  {
   "cell_type": "markdown",
   "metadata": {},
   "source": [
    "Definamos as possibilidades de resultado de um único evento como  $A$ e $A^c$ (A complementar)"
   ]
  },
  {
   "cell_type": "code",
   "execution_count": 61,
   "metadata": {
    "collapsed": true
   },
   "outputs": [],
   "source": [
    "possibilidades = [\"A\", \"Ac\"]"
   ]
  },
  {
   "cell_type": "markdown",
   "metadata": {},
   "source": [
    "Vamos atribuir a cada outcome possível sua probabilidade usando um dicionário:"
   ]
  },
  {
   "cell_type": "code",
   "execution_count": 62,
   "metadata": {
    "collapsed": true
   },
   "outputs": [],
   "source": [
    "prob = {\"A\": 0.1, \"Ac\":0.9}"
   ]
  },
  {
   "cell_type": "markdown",
   "metadata": {},
   "source": [
    "<font color=red>Importante!</font> A soma das probabilidades para um único evento deve ser 1.0."
   ]
  },
  {
   "cell_type": "markdown",
   "metadata": {},
   "source": [
    "Lembre-se de que multiplicar uma lista * 3 usando colchetes cria uma lista com 3 sub-listas"
   ]
  },
  {
   "cell_type": "markdown",
   "metadata": {},
   "source": [
    "Vamos gerar todos os arranjos possíveis de 3 eventos"
   ]
  },
  {
   "cell_type": "code",
   "execution_count": 63,
   "metadata": {
    "collapsed": false
   },
   "outputs": [],
   "source": [
    "import itertools\n",
    "\n",
    "arranjos = itertools.product(*([possibilidades]*3 ))"
   ]
  },
  {
   "cell_type": "code",
   "execution_count": 64,
   "metadata": {
    "collapsed": false
   },
   "outputs": [
    {
     "data": {
      "text/plain": [
       "<itertools.product at 0x10742f870>"
      ]
     },
     "execution_count": 64,
     "metadata": {},
     "output_type": "execute_result"
    }
   ],
   "source": [
    "arranjos"
   ]
  },
  {
   "cell_type": "code",
   "execution_count": 65,
   "metadata": {
    "collapsed": false
   },
   "outputs": [
    {
     "data": {
      "text/plain": [
       "[('A', 'A', 'A'),\n",
       " ('A', 'A', 'Ac'),\n",
       " ('A', 'Ac', 'A'),\n",
       " ('A', 'Ac', 'Ac'),\n",
       " ('Ac', 'A', 'A'),\n",
       " ('Ac', 'A', 'Ac'),\n",
       " ('Ac', 'Ac', 'A'),\n",
       " ('Ac', 'Ac', 'Ac')]"
      ]
     },
     "execution_count": 65,
     "metadata": {},
     "output_type": "execute_result"
    }
   ],
   "source": [
    "espaco_amostral = list(arranjos)\n",
    "espaco_amostral"
   ]
  },
  {
   "cell_type": "markdown",
   "metadata": {},
   "source": [
    "Vamos calcular a probabilidade de cada uma das linhas:"
   ]
  },
  {
   "cell_type": "code",
   "execution_count": 66,
   "metadata": {
    "collapsed": false
   },
   "outputs": [
    {
     "data": {
      "text/plain": [
       "[0.0010000000000000002,\n",
       " 0.009000000000000003,\n",
       " 0.009000000000000001,\n",
       " 0.08100000000000002,\n",
       " 0.009000000000000001,\n",
       " 0.08100000000000002,\n",
       " 0.08100000000000002,\n",
       " 0.7290000000000001]"
      ]
     },
     "execution_count": 66,
     "metadata": {},
     "output_type": "execute_result"
    }
   ],
   "source": [
    "prob_linhas = []\n",
    "\n",
    "for evento in espaco_amostral:\n",
    "    p = 1.0\n",
    "    for e in evento:\n",
    "        p*=prob[e]\n",
    "    prob_linhas.append(p)\n",
    "\n",
    "prob_linhas"
   ]
  },
  {
   "cell_type": "markdown",
   "metadata": {},
   "source": [
    "Vamos verificar que a soma das probabilidades de todos os eventos do espaço amostral é 1"
   ]
  },
  {
   "cell_type": "code",
   "execution_count": 67,
   "metadata": {
    "collapsed": false
   },
   "outputs": [
    {
     "data": {
      "text/plain": [
       "1.0"
      ]
     },
     "execution_count": 67,
     "metadata": {},
     "output_type": "execute_result"
    }
   ],
   "source": [
    "sum(prob_linhas)"
   ]
  },
  {
   "cell_type": "markdown",
   "metadata": {
    "collapsed": true
   },
   "source": [
    "#Mapeando à variável aleatória $C$\n",
    "\n",
    "Seguindo o exemplo 3.2 do Magalhães e Lima, a obra custa $100 + 50*n_{A^c}$\n",
    "\n",
    "Note que várias linhas do espaço amostral podem mapear em valores repetidos da variável aleatória.\n",
    "\n",
    "Por este motivo, é conveniente usar a variável aleatória como chave de um dicionário, e as probabilidades como valor armazenado."
   ]
  },
  {
   "cell_type": "code",
   "execution_count": 68,
   "metadata": {
    "collapsed": true
   },
   "outputs": [],
   "source": [
    "valores_C = {}"
   ]
  },
  {
   "cell_type": "code",
   "execution_count": 69,
   "metadata": {
    "collapsed": false
   },
   "outputs": [],
   "source": [
    "for i in range(len(espaco_amostral)):\n",
    "    custo = espaco_amostral[i].count(\"A\")*50 + 100\n",
    "    \n",
    "    if custo in valores_C:\n",
    "        valores_C[custo] += prob_linhas[i]\n",
    "    else:\n",
    "        valores_C[custo] = prob_linhas[i]\n",
    "    \n",
    "    "
   ]
  },
  {
   "cell_type": "markdown",
   "metadata": {},
   "source": [
    "Resumo:"
   ]
  },
  {
   "cell_type": "code",
   "execution_count": 70,
   "metadata": {
    "collapsed": false
   },
   "outputs": [
    {
     "name": "stdout",
     "output_type": "stream",
     "text": [
      "Valor:  200  Probabilidade 0.027000000000000003\n",
      "Valor:  250  Probabilidade 0.0010000000000000002\n",
      "Valor:  100  Probabilidade 0.7290000000000001\n",
      "Valor:  150  Probabilidade 0.24300000000000005\n"
     ]
    }
   ],
   "source": [
    "for k in valores_C:\n",
    "    print(\"Valor: \", k, \" Probabilidade\", valores_C[k])"
   ]
  }
 ],
 "metadata": {
  "kernelspec": {
   "display_name": "Python 3",
   "language": "python",
   "name": "python3"
  },
  "language_info": {
   "codemirror_mode": {
    "name": "ipython",
    "version": 3
   },
   "file_extension": ".py",
   "mimetype": "text/x-python",
   "name": "python",
   "nbconvert_exporter": "python",
   "pygments_lexer": "ipython3",
   "version": "3.4.3"
  }
 },
 "nbformat": 4,
 "nbformat_minor": 0
}
