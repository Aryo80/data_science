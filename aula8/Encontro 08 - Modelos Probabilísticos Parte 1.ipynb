{
 "cells": [
  {
   "cell_type": "markdown",
   "metadata": {},
   "source": [
    "#Encontro 08\n",
    "\n",
    "**Preparo Prévio:**\n",
    "1.\tLeitura prévia necessária: Magalhães e Lima (7ª. Edição): Definições 3.4 e 3.5  (pág. 82 a 84), Exemplo 3.10 (pág. 86), Definição 4.1 (pág. 106), Definição 4.2 (pág. 110), Exemplo 4.9 (pág. 118) e Definição 4.6 (pág. 121).\n",
    "\n",
    "**Hoje:**\n",
    "1.\tDescrever modelos discretos quanto aos resultados teóricos.\n",
    "2.\tExplicar a utilização de modelos probabilísticos no contexto da literatura estatística.\n",
    "3.\tContrastar resultados teóricos e empíricos.\n",
    "4.\tFechamento do conteúdo.\n",
    "\n",
    "**Próxima aula:**\n",
    "1.\tLeitura prévia necessária: Magalhães e Lima (7ª. Edição): Seção 5.1 (pág. 137) e Seção 5.2 (pág. 146)."
   ]
  },
  {
   "cell_type": "markdown",
   "metadata": {},
   "source": [
    "___\n",
    "Nessa aula, teremos contato com algumas distribuições discretas e como essas podem ser utilizadas para modelagem de dados reais.\n",
    "\n",
    "> **Confira alguns itens obrigatórios verificados durante a vistoria do Detran**\n",
    "\n",
    "> *Todos os veículos, novos ou velhos, precisam passar por uma vistoria todos os anos. (...) O motorista precisa estar atento a alguns itens obrigatórios. Tudo deve funcionar perfeitamente, apresentar bom estado de conservação e estar dentro do prazo de validade.*\n",
    "\n",
    "> <sup>Fonte: http://extra.globo.com/noticias/brasil/transito-seguro/confira-alguns-itens-obrigatorios-verificados-durante-vistoria-do-detran-10190355.html</sup>\n",
    "\n",
    "Essa matéria lista 14 itens que são inspecionados pelo Detran, dentre os quais têm-se: extintor de incêndio deve estar dentro do prazo de validade; pneus devem estar em bom estado de conservação; buzina deve funcionar perfeitamente; e cintos de segurança para todos os ocupantes do carro. Se, no final das contas, todos os 14 itens estiverem funcionando perfeitamente, o motorista irá feliz para casa assegurado que seu carro está seguro e sem problemas com a vistoria.\n",
    "\n",
    "____\n",
    "1) A base de dados `Carros.txt` apresenta, para cada um dos três mil carros de passeio vistoriados, duas informações: tipo de carro (1: Popular e 2: Não Popular) e quantidade de itens vistoriados em não conformidade (que pode variar de 0 a 14). "
   ]
  },
  {
   "cell_type": "code",
   "execution_count": 2,
   "metadata": {
    "collapsed": false
   },
   "outputs": [
    {
     "name": "stdout",
     "output_type": "stream",
     "text": [
      "Esperamos trabalhar no diretório\n",
      "/Users/mirwox/Dropbox/Insper/2015/Courses/DataScience/github/data_science/aula8\n"
     ]
    }
   ],
   "source": [
    "%matplotlib inline\n",
    "\n",
    "import os\n",
    "import matplotlib.pyplot as plt\n",
    "import pandas as pd\n",
    "from scipy import stats\n",
    "\n",
    "print('Esperamos trabalhar no diretório')\n",
    "print(os.getcwd())"
   ]
  },
  {
   "cell_type": "code",
   "execution_count": 3,
   "metadata": {
    "collapsed": true
   },
   "outputs": [],
   "source": [
    "Carros = pd.read_table('Carros.txt', sep=' ')"
   ]
  },
  {
   "cell_type": "markdown",
   "metadata": {},
   "source": [
    "1.1. Considerando todos os carros, analise a quantidade de itens vistoriados em não conformidade. Pela tabela de frequências relativas, calcule a média e variância dessa quantidade (veja as tabelas 4.1 e 4.2 no Magalhães). Interprete-os."
   ]
  },
  {
   "cell_type": "code",
   "execution_count": 5,
   "metadata": {
    "collapsed": true
   },
   "outputs": [],
   "source": [
    "#Escreva sua resposta em Python aqui"
   ]
  },
  {
   "cell_type": "markdown",
   "metadata": {},
   "source": [
    "1.2. Assuma que a variável *Quantidade de itens em não conformidade* possa ser ajustada pelo modelo Binomial com parâmetros *n*=14 e *p*=0,10. Interprete esses parâmetros para o problema em questão."
   ]
  },
  {
   "cell_type": "markdown",
   "metadata": {},
   "source": [
    "> Insira sua resposta aqui"
   ]
  },
  {
   "cell_type": "markdown",
   "metadata": {},
   "source": [
    "1.3. Uma variável definida pela contagem de sucessos em *n* tentativas possui DISTRIBUIÇÃO BINOMIAL se tiver as seguintes propriedades:\n",
    "* é uma contagem de *n* repetições (ou tentativas ou ensaios) idênticas;\n",
    "* cada repetição tem apenas 2 resultados possíveis: um é denominado sucesso e o outro, fracasso;\n",
    "* a probabilidade de sucesso para cada ensaio é denominada *p* e será constante em cada repetição. Então, a probabilidade de fracasso *(1-p)* também não varia de tentativa para tentativa;\n",
    "* As tentativas são independentes.\n",
    "\n",
    "A variável *Quantidade de itens em não conformidade* segue as propriedades citadas acima? Discuta sua resposta.\n"
   ]
  },
  {
   "cell_type": "markdown",
   "metadata": {},
   "source": [
    "> Insira sua resposta aqui"
   ]
  },
  {
   "cell_type": "markdown",
   "metadata": {},
   "source": [
    "\n",
    "**Independente do sua resposta anterior, considere a distribuição binomial para modelar a variável em questão nos próximos itens!**\n",
    "\n",
    "1.4. Utilizando o método `stats.binom.pmf`, obtenha a probabilidade de cada uma das quantidades de itens em não conformidade, ou seja, varie $x$ entre $0$ e $14$. Calcule o valor esperado (média) e a variância da quantidade de itens em não conformidade."
   ]
  },
  {
   "cell_type": "code",
   "execution_count": null,
   "metadata": {
    "collapsed": true
   },
   "outputs": [],
   "source": []
  },
  {
   "cell_type": "markdown",
   "metadata": {},
   "source": [
    " Há algum resultado pronto em função dos parâmetros da distribuição que retornam valor esperado e variância? (veja a Tabela 4.4 do livro)"
   ]
  },
  {
   "cell_type": "markdown",
   "metadata": {},
   "source": [
    "> Insira sua resposta aqui"
   ]
  },
  {
   "cell_type": "markdown",
   "metadata": {},
   "source": [
    "1.5. Compare as probabilidades teóricas com as frequências relativas observadas nos dados. **Na prática, qual a necessidade de um modelo probabilístico já que se têm os dados observados?**"
   ]
  },
  {
   "cell_type": "markdown",
   "metadata": {},
   "source": [
    "> Insira sua resposta aqui"
   ]
  },
  {
   "cell_type": "markdown",
   "metadata": {},
   "source": [
    "1.6. Execute os comandos abaixo e compare com os seus resultados acima obtidos."
   ]
  },
  {
   "cell_type": "code",
   "execution_count": 6,
   "metadata": {
    "collapsed": false
   },
   "outputs": [
    {
     "name": "stdout",
     "output_type": "stream",
     "text": [
      "Frequência relativa:\n",
      "0    0.288000\n",
      "1    0.316667\n",
      "2    0.221333\n",
      "3    0.108333\n",
      "4    0.046333\n",
      "5    0.015667\n",
      "6    0.002667\n",
      "7    0.000667\n",
      "8    0.000333\n",
      "dtype: float64\n",
      "média amostral:\n",
      "1.37133333333\n"
     ]
    }
   ],
   "source": [
    "# resultados empíricos\n",
    "\n",
    "Ti = Carros.Tipo\n",
    "Q = Carros.Quantidade\n",
    "\n",
    "fr = Q.value_counts(True).sort_index()\n",
    "print('Frequência relativa:')\n",
    "print(fr)\n",
    "\n",
    "a = len(fr)\n",
    "\n",
    "xbarra = 0\n",
    "for i in range(a):\n",
    "  xbarra = xbarra + i * fr[i]\n",
    "\n",
    "print('média amostral:')\n",
    "print(xbarra)"
   ]
  },
  {
   "cell_type": "code",
   "execution_count": 7,
   "metadata": {
    "collapsed": false
   },
   "outputs": [
    {
     "name": "stdout",
     "output_type": "stream",
     "text": [
      "Variância amostral:\n",
      "1.57944488889\n"
     ]
    }
   ],
   "source": [
    "varobs = 0\n",
    "for i in range(a):\n",
    "  varobs = varobs + (i - xbarra)**2 * fr[i]\n",
    "print('Variância amostral:')\n",
    "print(varobs)"
   ]
  },
  {
   "cell_type": "code",
   "execution_count": 8,
   "metadata": {
    "collapsed": false
   },
   "outputs": [
    {
     "name": "stdout",
     "output_type": "stream",
     "text": [
      "Função de probabilidade - P(X=x):\n",
      "[0.22876792454960998, 0.35586121596606141, 0.2570108781977114, 0.11422705697676022, 0.034902711854010011, 0.0077561581897800267, 0.0012926930316300015, 0.00016415149608000069, 1.5959173230000058e-05, 1.1821609800000021e-06, 6.5675610000000304e-08, 2.6535600000000108e-09, 7.3710000000000372e-11, 1.2600000000000108e-12, 1.0000000000000058e-14]\n",
      "Valor esperado:\n",
      "1.4\n"
     ]
    }
   ],
   "source": [
    "# resultados teóricos\n",
    "\n",
    "p = 0.1\n",
    "pr = []\n",
    "for i in range(15):\n",
    "  pr.append(stats.binom.pmf(i, 14, p))\n",
    "\n",
    "print('Função de probabilidade - P(X=x):')\n",
    "print(pr)\n",
    "\n",
    "mu = 0\n",
    "for i in range(15):\n",
    "  mu = mu + i * pr[i]\n",
    "print('Valor esperado:')\n",
    "print(mu)"
   ]
  },
  {
   "cell_type": "code",
   "execution_count": 9,
   "metadata": {
    "collapsed": false
   },
   "outputs": [
    {
     "name": "stdout",
     "output_type": "stream",
     "text": [
      "Variância teórica:\n",
      "1.26\n"
     ]
    }
   ],
   "source": [
    "sigma2 = 0\n",
    "for i in range(15):\n",
    "  sigma2 = sigma2 + (i - mu)**2 * pr[i]\n",
    "print('Variância teórica:')\n",
    "print(sigma2)"
   ]
  },
  {
   "cell_type": "markdown",
   "metadata": {},
   "source": [
    "1.7. Graficamente, tem-se as duas opções abaixo para comparar se os resultados empíricos se encaixam com o modelo teórico proposto. \n",
    "- A primeira delas contrasta a frequência relativa e a probabilidade teórica para uma determinada quantidade de itens em não conformidade! Por exemplo, para $x=1$, os dados apresentam $31,7\\%$ dos carros com exatamente um item em não conformidade, enquanto, pelo modelo teórico, era esperado aproximadamente $35,6\\%$.\n",
    "- O segundo gráfico contrasta a frequência relativa acumulada com a probabilidade acumulada até determinada quantidade de itens em não conformidade. Por exemplo, para $x\\leq 1$, os dados apresentam $60,5\\%$ dos carros com até um item em não conformidade, enquanto, pelo modelo teórico, era esperado aproximadamente $58,5\\%$.\n",
    "\n",
    "Observe os gráficos e refine sua conclusão quanto ao uso do modelo teórico para ajustar a variável em questão!"
   ]
  },
  {
   "cell_type": "code",
   "execution_count": 10,
   "metadata": {
    "collapsed": false
   },
   "outputs": [
    {
     "data": {
      "text/plain": [
       "[<matplotlib.lines.Line2D at 0x10b7dbe10>]"
      ]
     },
     "execution_count": 10,
     "metadata": {},
     "output_type": "execute_result"
    },
    {
     "data": {
      "image/png": "[encoded data removed]",
      "text/plain": [
       "<matplotlib.figure.Figure at 0x10b7addd8>"
      ]
     },
     "metadata": {},
     "output_type": "display_data"
    }
   ],
   "source": [
    "# resultados empíricos e resultados teóricos \n",
    "# comparando graficamente pela função de probabilidade \n",
    "plt.plot(range(len(pr)), pr, 'D')\n",
    "plt.vlines(range(len(fr)), 0, fr)\n",
    "plt.plot(range(len(fr)), fr, 'o')"
   ]
  },
  {
   "cell_type": "code",
   "execution_count": 11,
   "metadata": {
    "collapsed": false
   },
   "outputs": [
    {
     "data": {
      "text/plain": [
       "[<matplotlib.lines.Line2D at 0x10b82e0f0>]"
      ]
     },
     "execution_count": 11,
     "metadata": {},
     "output_type": "execute_result"
    },
    {
     "data": {
      "image/png": "[encoded data removed]",
      "text/plain": [
       "<matplotlib.figure.Figure at 0x10b82e1d0>"
      ]
     },
     "metadata": {},
     "output_type": "display_data"
    }
   ],
   "source": [
    "# resultados empíricos e resultados teóricos \n",
    "# comparando graficamente pela função de distribuição acumulada\n",
    "\n",
    "fra = fr.cumsum()\n",
    "\n",
    "p = 0.1\n",
    "fda = []\n",
    "for i in range(15):\n",
    "  fda.append(stats.binom.cdf(i, 14, p))\n",
    "\n",
    "plt.plot(range(len(fda)), fda, 'D')\n",
    "plt.plot(range(len(fra)), fra, 'o-')"
   ]
  },
  {
   "cell_type": "markdown",
   "metadata": {},
   "source": [
    "1.8. Considerando apenas os carros populares, o modelo Binomial com parâmetros *n*=14 e *p*=0,10 é adequado para ajustar a variável Quantidade de itens em não conformidade? Se sim, justifique; caso não, sugira novos valores para os parâmetros da distribuição ajuste aos dados."
   ]
  },
  {
   "cell_type": "code",
   "execution_count": null,
   "metadata": {
    "collapsed": true
   },
   "outputs": [],
   "source": []
  },
  {
   "cell_type": "markdown",
   "metadata": {
    "collapsed": true
   },
   "source": [
    "___\n",
    "2) Há outros modelos probabilísticos discretos. \n",
    "\n",
    "Cite pelo menos dois destes modelos e para quais problemas práticos poderiam ser aplicados."
   ]
  },
  {
   "cell_type": "markdown",
   "metadata": {
    "collapsed": true
   },
   "source": [
    "> "
   ]
  }
 ],
 "metadata": {
  "kernelspec": {
   "display_name": "Python 3",
   "language": "python",
   "name": "python3"
  },
  "language_info": {
   "codemirror_mode": {
    "name": "ipython",
    "version": 3
   },
   "file_extension": ".py",
   "mimetype": "text/x-python",
   "name": "python",
   "nbconvert_exporter": "python",
   "pygments_lexer": "ipython3",
   "version": "3.4.3"
  }
 },
 "nbformat": 4,
 "nbformat_minor": 0
}
