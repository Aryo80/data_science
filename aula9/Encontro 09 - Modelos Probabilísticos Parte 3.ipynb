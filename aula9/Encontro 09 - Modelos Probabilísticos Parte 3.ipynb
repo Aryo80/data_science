{
 "cells": [
  {
   "cell_type": "markdown",
   "metadata": {},
   "source": [
    "#Encontro 09\n",
    "\n",
    "**Preparo Prévio:**\n",
    "1. Leitura prévia necessária: Magalhães e Lima (7ª. Edição): Seção 6.2 (pág. 189).\n",
    "\n",
    "**Hoje:**\n",
    "1. Descrever modelos contínuos quanto aos resultados teóricos.\n",
    "2. Explicar a utilizada de modelos probabilísticos no contexto da literatura estatística.\n",
    "3. Contrastar resultados teóricos e empíricos.\n",
    "4. Fechamento do conteúdo.\n",
    "\n",
    "**Próxima aula:**\n",
    "> 1. Leitura prévia necessária: Magalhães e Lima (7ª. Edição): Seção 5.1 (pág. 137) e Seção 5.2 (pág. 146)."
   ]
  },
  {
   "cell_type": "code",
   "execution_count": 1,
   "metadata": {
    "collapsed": true
   },
   "outputs": [],
   "source": [
    "%matplotlib inline\n",
    "\n",
    "import os\n",
    "import matplotlib.pyplot as plt\n",
    "import pandas as pd\n",
    "from scipy import stats"
   ]
  },
  {
   "cell_type": "markdown",
   "metadata": {},
   "source": [
    "Nessa aula, teremos contato com algumas distribuições contínuas e como essas podem ser utilizadas para modelagem de dados reais.\n",
    "\n",
    "**Distribuição Exponencial**\n",
    "\n",
    "A distribuição Exponencial é conhecida, principalmente, por sua adequação na modelagem de variáveis que descrevem tempo de vida de produtos e materiais. Teoricamente, a função densidade de probabilidade (FDP) de uma distribuição Exponencial com parâmetro $\\alpha$, com $\\alpha > 0$, é definida por:\n",
    "\n",
    "$$f(x|\\alpha) = f(x) = \\alpha e^{-\\alpha x},$$\n",
    "\n",
    "com $x \\geq 0$. Quando uma variável $X$ tem distribuição Exponencial com parâmetro $\\alpha$, pode-se afirmar que sua esperança e variância são dadas, respectivamente, por $E(X) = \\frac{1}{\\alpha}$ e $\\mathrm{Var}(X) = \\frac{1}{\\alpha^2}$.\n",
    "\n",
    "A Figura 1 mostra a distribuição Exponencial para alguns valores do parâmetro $\\alpha = \\frac{1}{2}; 1; \\frac{3}{2}; 3$.\n",
    "\n",
    "<img src=\"Exponencial1.png\"/>\n",
    "<center><sup>**Figura 1.** Função densidade de probabilidade da Exponencial para alguns valores de $\\alpha$.</sup></center>\n",
    "\n",
    "Para calcular a probabilidade da variável $X$ não exceder um valor $k$, é necessário obter a área abaixo da curva até esse ponto, isto é, calcular por integral a $P(X \\leq k)$. Essa probabilidade pode ser obtida pela função de distribuição acumulada (FDA) no ponto $k$ que, no caso da Exponencial, é dada por:\n",
    "\n",
    "$$F(k) = P(X \\leq k) = \\int^k_0 \\alpha e^{-\\alpha x} dx = 1 - e^{-\\alpha k}$$\n",
    "\n",
    "A Figura 2 mostra a função de distribuição da Exponencial para alguns valores do parâmetro $\\alpha = \\frac{1}{2}; 1; \\frac{3}{2}; 3$.\n",
    "\n",
    "<img src=\"Exponencial2.png\"/>\n",
    "<center><sup>**Figura 2.** Função de distribuição acumulada da Exponencial para alguns valores de $\\alpha$.</sup></center>\n",
    "\n",
    "Como notação, utiliza-se $X \\sim \\mathrm{Exp}(\\alpha)$ e lê-se: “a variável $X$ segue uma distribuição Exponencial com parâmetro $\\alpha$”."
   ]
  },
  {
   "cell_type": "markdown",
   "metadata": {},
   "source": [
    "> **O que ajuda e o que atrapalha as vendas pela internet**\n",
    "\n",
    "> *Assim como no desenho animado da Warner em que o Coiote persegue o Papa-Léguas, na internet o mais rápido leva a melhor. Um levantamento recente da consultoria americana Aberdeen Group mostra que, a cada segundo que uma página de uma loja online demora para carregar, há uma queda de 7% na conversão de vendas.*\n",
    "\n",
    "> <sup>Fonte: http://exame.abril.com.br/revista-exame-pme/edicoes/75/noticias/venda-muito-mais-pela-internet</sup>"
   ]
  },
  {
   "cell_type": "markdown",
   "metadata": {},
   "source": [
    "1) Considere a variável $T$: tempo, em segundos, para abertura de um site de loja virtual de domínio brasileiro com média igual a $1,09$ segundos e que essa variável seja modelada por uma distribuição Exponencial.\n",
    "\n",
    "1.1. As linhas de comando descritas a seguir simulam uma base de dados para compor uma possível amostra 100 lojas virtuais a partir da sua distribuição teórica, ou seja, $T \\sim \\mathrm{Exp}(1,03)$. \n",
    "\n",
    "Compare a média (valor esperado) e a variância da amostra com as da distribuição geradora. A amostra seria bem modelada pela sua própria distribuição geradora?"
   ]
  },
  {
   "cell_type": "code",
   "execution_count": 2,
   "metadata": {
    "collapsed": false
   },
   "outputs": [],
   "source": [
    "# resultados simulados para compor a amostra\n",
    "alpha = 1.03\n",
    "n = 100\n",
    "tempos = pd.Series(stats.expon.rvs(scale=alpha, size=n)) # vetor com dados simulados"
   ]
  },
  {
   "cell_type": "markdown",
   "metadata": {},
   "source": [
    "1.2. Graficamente, há algumas opções para levantar indícios se uma distribuição de probabilidade irá fornecer um ajuste razoável aos dados. Dentre essas opções, temos:\n",
    "\n",
    "* Histograma dos dados *versus* função densidade de probabilidade teórica."
   ]
  },
  {
   "cell_type": "code",
   "execution_count": 18,
   "metadata": {
    "collapsed": false
   },
   "outputs": [
    {
     "data": {
      "text/plain": [
       "[<matplotlib.lines.Line2D at 0x10e6a20>]"
      ]
     },
     "execution_count": 18,
     "metadata": {},
     "output_type": "execute_result"
    },
    {
     "data": {
      "image/png": "[encoded data removed]",
      "text/plain": [
       "<matplotlib.figure.Figure at 0x10e6358>"
      ]
     },
     "metadata": {},
     "output_type": "display_data"
    }
   ],
   "source": [
    "# histograma e densidade teórica\n",
    "pd.DataFrame.plot(kind='hist', data=tempos, bins=range(0, 11), normed=True, legend=False)\n",
    "a = pd.Series(range(1, 1001)) / 100\n",
    "plt.plot(a, stats.expon.pdf(a, scale=alpha), '-', color='red')"
   ]
  },
  {
   "cell_type": "markdown",
   "metadata": {},
   "source": [
    "* Quantis empíricos (dados ordenados) *versus* quantis teóricos."
   ]
  },
  {
   "cell_type": "code",
   "execution_count": 19,
   "metadata": {
    "collapsed": false
   },
   "outputs": [
    {
     "data": {
      "text/plain": [
       "[<matplotlib.lines.Line2D at 0x5ae2da0>]"
      ]
     },
     "execution_count": 19,
     "metadata": {},
     "output_type": "execute_result"
    },
    {
     "data": {
      "image/png": "[encoded data removed]",
      "text/plain": [
       "<matplotlib.figure.Figure at 0x5ae29e8>"
      ]
     },
     "metadata": {},
     "output_type": "display_data"
    }
   ],
   "source": [
    "# dados ordenados e quantis teóricos - QQplot\n",
    "tempos.sort()\n",
    "fra = [] # frequencia relativa acumulada\n",
    "for i in range(n):\n",
    "  fra.append((i + 0.5) / n) # ver Magalhães e Lima (pag. 195)\n",
    "\n",
    "q = stats.expon.ppf(fra, scale=alpha) # quantis teóricos\n",
    "\n",
    "plt.plot(tempos, q, 'o')\n",
    "plt.plot((min(tempos), max(tempos)), (min(tempos), max(tempos)), '-')"
   ]
  },
  {
   "cell_type": "markdown",
   "metadata": {},
   "source": [
    "* Frequência relativa acumulada (a partir dos dados) *versus* função de distribuição acumulada."
   ]
  },
  {
   "cell_type": "code",
   "execution_count": 20,
   "metadata": {
    "collapsed": false
   },
   "outputs": [
    {
     "data": {
      "text/plain": [
       "[<matplotlib.lines.Line2D at 0x5b311d0>]"
      ]
     },
     "execution_count": 20,
     "metadata": {},
     "output_type": "execute_result"
    },
    {
     "data": {
      "image/png": "[encoded data removed]",
      "text/plain": [
       "<matplotlib.figure.Figure at 0x5b31160>"
      ]
     },
     "metadata": {},
     "output_type": "display_data"
    }
   ],
   "source": [
    "# fra e FDA\n",
    "fda = stats.expon.cdf(tempos, scale=alpha) #FDA\n",
    "\n",
    "plt.plot(tempos, fra, '-', color='black')\n",
    "plt.plot(tempos, fda, '-', color='red')"
   ]
  },
  {
   "cell_type": "markdown",
   "metadata": {},
   "source": [
    "Considerando os gráficos anteriores, descreva se há indícios de concordância entre modelo teórico e dados (amostra simulada). Note que seus argumentos devem ser respaldados em cada resultado gráfico.\n",
    "\n",
    "1.3. Qual o % de lojas na amostra que demoram mais do que um segundo para abrir o site? E qual a probabilidade desse resultado acontecer? Esses resultados deveriam ser iguais? Por quê?\n",
    "\n",
    "1.4. **Na prática, qual a necessidade de um modelo probabilístico já que se têm os dados observados?**\n",
    "\n",
    "2) Há outros modelos probabilísticos contínuos:\n",
    "\n",
    "* Uniforme\n",
    "* Normal\n",
    "* Gamma\n",
    "* t-Student\n",
    "* LogNormal\n",
    "* Beta\n",
    "* F-Snedecor\n",
    "\n",
    "Cada grupo de alunos deve ficar com uma distribuição e deve responder as seguintes perguntas:\n",
    "\n",
    "2.1. Quais as características dessa distribuição (valores que a variável pode assumir, formato da distribuição, parâmetros que a descrevem, esperança e variância em função dos parâmetros.\n",
    "\n",
    "2.2. Há algum tipo de variável que pode ser mais bem ajustada por essa distribuição teórica?\n",
    "\n",
    "2.3. Essa distribuição é útil para a inferência estatística? (Os Capítulos 7 e 8 do Magalhães darão uma idéia de se sim ou não)\n"
   ]
  },
  {
   "cell_type": "code",
   "execution_count": null,
   "metadata": {
    "collapsed": false
   },
   "outputs": [],
   "source": []
  }
 ],
 "metadata": {
  "kernelspec": {
   "display_name": "Python 3",
   "language": "python",
   "name": "python3"
  },
  "language_info": {
   "codemirror_mode": {
    "name": "ipython",
    "version": 3
   },
   "file_extension": ".py",
   "mimetype": "text/x-python",
   "name": "python",
   "nbconvert_exporter": "python",
   "pygments_lexer": "ipython3",
   "version": "3.4.3"
  }
 },
 "nbformat": 4,
 "nbformat_minor": 0
}
