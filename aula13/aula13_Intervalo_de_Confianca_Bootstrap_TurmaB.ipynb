{
 "cells": [
  {
   "cell_type": "markdown",
   "metadata": {},
   "source": [
    "# Aula 13 - Determinação de intervalo de confiança\n",
    "\n",
    "Vamos refazer o exercício-exemplo da Aula 13 utilizando reamostragem para definir o intervalo de confiança\n",
    "\n",
    "\n",
    "O tempo de vida, em horas, de um termopar* usado em fornalhas é suposto ser aproximadamente normal. Uma amostra aleatória de 15 termopares resultaram nos seguintes tempos:\n",
    "\n",
    "`553, 552, 567, 579, 550, 541, 537, 553, 552, 546, 538, 553, 581, 539, 529`\n",
    "\n",
    "A empresa diz que um termopar deve durar, em média, 560 horas. Há evidências de que essa afirmação seja verdadeira? Considere um coeficiente de confiança de 95%.\n",
    "Quais foram as suposições feitas para a resolução do item anterior?\n",
    "\n",
    "\n"
   ]
  },
  {
   "cell_type": "code",
   "execution_count": 62,
   "metadata": {
    "collapsed": false
   },
   "outputs": [],
   "source": [
    "import numpy as np\n",
    "import matplotlib as plt\n",
    "import pandas as pd\n",
    "\n",
    "%matplotlib inline\n",
    "\n",
    "dados = [553, 552, 567, 579, 550, 541, 537, 553, 552, 546, 538, 553, 581, 539, 529]\n",
    "dados = np.array(dados)\n",
    "n = len(dados)\n",
    "\n"
   ]
  },
  {
   "cell_type": "code",
   "execution_count": 63,
   "metadata": {
    "collapsed": false
   },
   "outputs": [
    {
     "data": {
      "text/plain": [
       "<matplotlib.axes._subplots.AxesSubplot at 0x10a8c8390>"
      ]
     },
     "execution_count": 63,
     "metadata": {},
     "output_type": "execute_result"
    },
    {
     "data": {
      "image/png": "[encoded data removed]",
      "text/plain": [
       "<matplotlib.figure.Figure at 0x10a8ce3c8>"
      ]
     },
     "metadata": {},
     "output_type": "display_data"
    }
   ],
   "source": [
    "medias_amostrais = []\n",
    "\n",
    "num_vezes = 1000000\n",
    "\n",
    "for i in range(num_vezes):\n",
    "    # Gera uma reamostra dos dados _com_ reposição\n",
    "    amostra = np.random.choice(dados, size=n, replace=True)\n",
    "    media = np.mean(amostra)\n",
    "    medias_amostrais.append(media)\n",
    "\n",
    "\n",
    "bins = np.linspace(min(medias_amostrais), max(medias_amostrais), 50)\n",
    "pd.DataFrame.plot(kind='hist', data=pd.Series(medias_amostrais), bins=bins, normed=True, legend=False)\n",
    "    \n",
    "    \n"
   ]
  },
  {
   "cell_type": "code",
   "execution_count": 64,
   "metadata": {
    "collapsed": false
   },
   "outputs": [
    {
     "data": {
      "text/plain": [
       "544.39999999999998"
      ]
     },
     "execution_count": 64,
     "metadata": {},
     "output_type": "execute_result"
    }
   ],
   "source": [
    "# Definição do IC de 95% (ou seja, os quantis 2.5% e 97.5%)\n",
    "np.percentile(medias_amostrais, 2.5)"
   ]
  },
  {
   "cell_type": "code",
   "execution_count": 65,
   "metadata": {
    "collapsed": false
   },
   "outputs": [
    {
     "data": {
      "text/plain": [
       "558.86666666666667"
      ]
     },
     "execution_count": 65,
     "metadata": {},
     "output_type": "execute_result"
    }
   ],
   "source": [
    "np.percentile(medias_amostrais, 97.5)"
   ]
  },
  {
   "cell_type": "markdown",
   "metadata": {},
   "source": [
    "## Atividades\n",
    "\n",
    "1. Faça em dupla três dos exercícios dos slides da *Aula 13* usando tanto o bootstrap quanto uma abordagem teórica convencional (insira neste IPython)\n",
    "\n",
    "Dados:\n",
    "\n",
    "`ex1  [82.05,107.11,98.67,109.04,119.80,97.71,128.80,101.97,120.25,114.22,100.57,101.81,110.93,76.55,122.94,107.06,100.12,98.74,109.18,109.81,112.05,104.25,105.64,86.30,111.99,123.58,103.32,94.22,104.55,125.91]`\n",
    "\n",
    "\n",
    "`ex2 =[320.22,332.87,226.15,288.67,273.69,238.72,234.83,210.10,206.18,347.95,265.61,226.71,210.22,277.41,312.65,237.28,242.46,271.28,287.98,356.71,308.77,308.15,299.85,343.78,239.77]`\n",
    "\n",
    "`ex3 = [2.46,0.0,8.33,11.64,9.94,7.17,8.75,6.76,3.07,6.88,7.09,4.43,0.0,1.06,3.76,2.32,0.0,6.18,6.67,8.98,2.79,2.79,1.16,6.8,6.73,0.0]\n",
    "`\n",
    "\n",
    "2. Adapte algum exemplo de intervalo de confiaça em que a população tinha distribuição normal - encontre os intervalos usando tanto a técnica convencional quanto a bootstrap\n",
    "3. Para um dos seus exemplos, apresente o IC de 90% para a variância amostral"
   ]
  },
  {
   "cell_type": "code",
   "execution_count": null,
   "metadata": {
    "collapsed": true
   },
   "outputs": [],
   "source": []
  }
 ],
 "metadata": {
  "kernelspec": {
   "display_name": "Python 3",
   "language": "python",
   "name": "python3"
  },
  "language_info": {
   "codemirror_mode": {
    "name": "ipython",
    "version": 3
   },
   "file_extension": ".py",
   "mimetype": "text/x-python",
   "name": "python",
   "nbconvert_exporter": "python",
   "pygments_lexer": "ipython3",
   "version": "3.4.3"
  }
 },
 "nbformat": 4,
 "nbformat_minor": 0
}
