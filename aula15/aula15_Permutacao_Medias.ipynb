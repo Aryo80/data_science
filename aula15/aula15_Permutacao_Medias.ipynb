{
 "cells": [
  {
   "cell_type": "markdown",
   "metadata": {},
   "source": [
    "# Encontro 15 - Teste de permutação para diferença de médias"
   ]
  },
  {
   "cell_type": "code",
   "execution_count": 9,
   "metadata": {
    "collapsed": true
   },
   "outputs": [],
   "source": [
    "#Bibliotecas necessárias para a tarefa\n",
    "\n",
    "%matplotlib inline\n",
    "\n",
    "import pandas\n",
    "\n",
    "import matplotlib.pyplot\n",
    "\n",
    "from scipy import stats\n",
    "\n",
    "import numpy\n",
    "import math\n",
    "import random"
   ]
  },
  {
   "cell_type": "markdown",
   "metadata": {},
   "source": [
    "___\n",
    "Uma fábrica realizou uma calibração em uma máquina na linha de produção. A equipe que realizou os ajustes afirmou que após a calibração, a máquina ainda manteve o mesmo tempo médio de produção. Para verificar se realmente o tempo médio permaneceu inalterado, foram realizadas duas medidas de tempo: uma antes e uma depois da calibração. \n",
    "\n",
    "Foram selecionadas 7 e 8 peças aleatorianente para as medidas antes e depois da calibração, repectivamente. Elas estão representadas abaixo pelas séries xA e xB, respectivamente.\n",
    "\n",
    "Assuma que o tempo de produção de uma peça possui uma distribuição normal e que o desvio padrão realmente permaneceu inalterado, contudo desconhecido."
   ]
  },
  {
   "cell_type": "code",
   "execution_count": 10,
   "metadata": {
    "collapsed": false
   },
   "outputs": [],
   "source": [
    "xA =   [ 47.66708824,  48.11337801,  47.83104582,  46.69416928,\n",
    "        48.70934634,  45.61498917,  51.79239414]\n",
    "xB =   [ 52.82692462,  49.60021673,  50.23705478,  49.65527133,\n",
    "        49.78115306,  49.81176314,  53.04044198,  48.6253753 ]"
   ]
  },
  {
   "cell_type": "markdown",
   "metadata": {},
   "source": [
    "a. Calcular a diferença entre os tempos médios depois e antes da calibração. Nomei essa diferença entre as médias amostrais originais de $d_{obs}$."
   ]
  },
  {
   "cell_type": "code",
   "execution_count": 15,
   "metadata": {
    "collapsed": false
   },
   "outputs": [
    {
     "name": "stdout",
     "output_type": "stream",
     "text": [
      "A diferença das médias observada de depois e antes: 2.386931\n"
     ]
    }
   ],
   "source": [
    "dobs = numpy.mean(xB) - numpy.mean(xA)\n",
    "print(\"A diferença das médias observada de depois e antes: %f\" % dobs)"
   ]
  },
  {
   "cell_type": "markdown",
   "metadata": {
    "collapsed": false
   },
   "source": [
    "___\n",
    "Como os dois conjuntos representam uma pequena amostra da população, não é possível inferir que essa seja a real diferença entre as médias das duas variáveis aleatórias. Portanto é desejável aferir se realmente a diferença é zero, com um nível de significância de 5%."
   ]
  },
  {
   "cell_type": "markdown",
   "metadata": {},
   "source": [
    "b. Formule a hipótese nula e a hipótese alternativa em termos do problema e dos parâmetros:\n",
    "\\begin{equation*}\n",
    "   H_0:\\mbox{Calibração não alterou produção} \\rightarrow \\mu_B=\\mu_A \\rightarrow \\mu_B-\\mu_A=0\n",
    "\\end{equation*}   \n",
    "\\begin{equation*}\n",
    "   H_a:\\mbox{Calibração alterou produção} \\rightarrow \\mu_B\\neq\\mu_A \\rightarrow \\mu_B-\\mu_A\\neq0\n",
    "\\end{equation*}"
   ]
  },
  {
   "cell_type": "markdown",
   "metadata": {},
   "source": [
    "___\n",
    "Não há qualquer informação acerca do desvio padrão populacional. Ainda, a amostra contém poucos dados. Para concluir se a hipótese nula será ou não rejeitada, antes de realizar um teste convencional, o aluno decidiu realizar um **Teste de Permutação**.\n",
    "\n",
    "Nesse teste, a ideia consiste em permutar os dados das duas amostras, ou seja, embraralhar os valores contidos em $x_A$ e $x_B$ e criar novas amostras. \n",
    "\n",
    "*Caso 1:* Caso ambas as amostras possuam a mesma unidade de medida e a ordem dos elementos nas amostras não seja importante, monta-se uma única lista com a união dos dados em $x_A$ e $x_B$, embaralha-se e separa-se novamente respeitando os tamanhos amostrais de cada amostra ($n_A$ e $n_B$). Note que os tamanhos amostrais não precisam ser necessariamente iguais.\n",
    "Calcule a diferença entre as médias de $x_B$ e $x_A$ e guarde-a.\n",
    "\n",
    "*Caso 2:* Caso as séries possuam unidades de medida diferentes ou o teste em questão exija uma certa ordem dos dados entre as amostras (por exemplo: teste de correlação), embaralha-se apenas uma das amostras. Logo, os novos pares de dados permutados ($x_A$,$x_B$) serão diferentes e, consequentemente, a diferença entre as médias de $x_B$ e $x_A$ também mudará.  Guarde esse valor.\n",
    "\n",
    "A cada iteração é feita uma nova diferença entre as médias e armazenada em uma lista. Ao final, é possível montar um histograma que representa a distribuição dessas diferenças de médias entre as amostras permutadas.\n",
    "\n",
    "Idealmente, é desejável a realização de todas as permutações possíveis, porém já os tamanhos das duas amostras $n_A=7$ e $n_B=8$, o número de combinações possíveis é 15!, ou mais de 1,3 trilhão de possibilidades, tornando a solução computacionalmente inviável."
   ]
  },
  {
   "cell_type": "markdown",
   "metadata": {},
   "source": [
    "c. Monte um programa para realizar o teste de permutação (considerando o Caso 1) para 100 mil iterações. Utilize o comando `random.shuffle()` para embaralhar a lista contendo a união dos dados em $x_A$ e $x_B$."
   ]
  },
  {
   "cell_type": "code",
   "execution_count": 13,
   "metadata": {
    "collapsed": false
   },
   "outputs": [],
   "source": [
    "#Permutation test\n",
    "\n",
    "nA = len(xA)\n",
    "nB = len(xB)\n",
    "\n",
    "#juntar as duas listas\n",
    "xAB = xA + xB\n",
    "\n",
    "#número de permutações, o ideal seria (m+n)! mas seria inviável.\n",
    "t = 100000\n",
    "\n",
    "perm = []\n",
    "for i in range(0,t):\n",
    "    #Embaralha o xy\n",
    "    random.shuffle(xAB)\n",
    "    #calcula a dif de medias entre o x e o y embaralhado e separado\n",
    "    perm.append(numpy.mean(xAB[nB:]) - numpy.mean(xAB[0:nB]))\n"
   ]
  },
  {
   "cell_type": "markdown",
   "metadata": {},
   "source": [
    "d. Exibir o histograma das diferenças entre as médias permutadas."
   ]
  },
  {
   "cell_type": "code",
   "execution_count": 14,
   "metadata": {
    "collapsed": false
   },
   "outputs": [
    {
     "data": {
      "text/plain": [
       "<matplotlib.axes._subplots.AxesSubplot at 0x71ec5f8>"
      ]
     },
     "execution_count": 14,
     "metadata": {},
     "output_type": "execute_result"
    },
    {
     "data": {
      "image/png": "[encoded data removed]",
      "text/plain": [
       "<matplotlib.figure.Figure at 0x4760278>"
      ]
     },
     "metadata": {},
     "output_type": "display_data"
    }
   ],
   "source": [
    "#Transforma a lista em série do pandas\n",
    "perm = pandas.Series(perm)\n",
    "\n",
    "#plota o histograma\n",
    "pandas.DataFrame.plot(kind='hist', data=perm, normed=True, legend=False)"
   ]
  },
  {
   "cell_type": "markdown",
   "metadata": {},
   "source": [
    "e. Calcule o valor-p do *teste de permutação*. Como o teste é bicaudal de acordo com a hipótese alterativa ($H_a:\\mu_B-\\mu_A\\neq0$), se $d_{obs}>0$, conte quantas diferenças entre as médias permutadas foram **maiores** do que a diferença observada no item a, ou seja, $d_{obs}$; se $d_{obs}<0$, conte quantas diferenças entre as médias permutadas foram **menores** do que a diferença observada no item a, ou seja, $d_{obs}$. Divida essa contagem pelo total de iterações (100 mil) e multiple o resultado por 2. Faça uma conclusão."
   ]
  },
  {
   "cell_type": "code",
   "execution_count": 16,
   "metadata": {
    "collapsed": false,
    "scrolled": true
   },
   "outputs": [
    {
     "name": "stdout",
     "output_type": "stream",
     "text": [
      "P-value através do teste de permutação: 0.022060\n"
     ]
    }
   ],
   "source": [
    "#Permutação:\n",
    "pvalue_perm = 2*(perm[perm > dobs]).count()/perm.count()\n",
    "\n",
    "print(\"P-value através do teste de permutação: %f\" % pvalue_perm)"
   ]
  }
 ],
 "metadata": {
  "kernelspec": {
   "display_name": "Python 3",
   "language": "python",
   "name": "python3"
  },
  "language_info": {
   "codemirror_mode": {
    "name": "ipython",
    "version": 3
   },
   "file_extension": ".py",
   "mimetype": "text/x-python",
   "name": "python",
   "nbconvert_exporter": "python",
   "pygments_lexer": "ipython3",
   "version": "3.4.3"
  }
 },
 "nbformat": 4,
 "nbformat_minor": 0
}
